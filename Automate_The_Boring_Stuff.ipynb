{
 "cells": [
  {
   "cell_type": "code",
   "execution_count": 1,
   "metadata": {},
   "outputs": [
    {
     "data": {
      "text/plain": [
       "4"
      ]
     },
     "execution_count": 1,
     "metadata": {},
     "output_type": "execute_result"
    }
   ],
   "source": [
    "2 + 2"
   ]
  },
  {
   "cell_type": "code",
   "execution_count": 2,
   "metadata": {},
   "outputs": [
    {
     "data": {
      "text/plain": [
       "2"
      ]
     },
     "execution_count": 2,
     "metadata": {},
     "output_type": "execute_result"
    }
   ],
   "source": [
    "5 - 3"
   ]
  },
  {
   "cell_type": "code",
   "execution_count": 3,
   "metadata": {},
   "outputs": [
    {
     "data": {
      "text/plain": [
       "21"
      ]
     },
     "execution_count": 3,
     "metadata": {},
     "output_type": "execute_result"
    }
   ],
   "source": [
    "3 * 7"
   ]
  },
  {
   "cell_type": "code",
   "execution_count": 4,
   "metadata": {},
   "outputs": [
    {
     "data": {
      "text/plain": [
       "3.142857142857143"
      ]
     },
     "execution_count": 4,
     "metadata": {},
     "output_type": "execute_result"
    }
   ],
   "source": [
    "22 / 7"
   ]
  },
  {
   "cell_type": "code",
   "execution_count": 5,
   "metadata": {},
   "outputs": [
    {
     "data": {
      "text/plain": [
       "20"
      ]
     },
     "execution_count": 5,
     "metadata": {},
     "output_type": "execute_result"
    }
   ],
   "source": [
    "2 + 3 * 6"
   ]
  },
  {
   "cell_type": "code",
   "execution_count": 6,
   "metadata": {},
   "outputs": [
    {
     "data": {
      "text/plain": [
       "float"
      ]
     },
     "execution_count": 6,
     "metadata": {},
     "output_type": "execute_result"
    }
   ],
   "source": [
    "type(43.0)"
   ]
  },
  {
   "cell_type": "code",
   "execution_count": 7,
   "metadata": {},
   "outputs": [
    {
     "name": "stdout",
     "output_type": "stream",
     "text": [
      "<class 'str'>\n"
     ]
    }
   ],
   "source": [
    "print(type('Hello World'))"
   ]
  },
  {
   "cell_type": "code",
   "execution_count": 8,
   "metadata": {},
   "outputs": [
    {
     "name": "stdout",
     "output_type": "stream",
     "text": [
      "Hello \n"
     ]
    }
   ],
   "source": [
    "print('Hello ' )"
   ]
  },
  {
   "cell_type": "code",
   "execution_count": 9,
   "metadata": {},
   "outputs": [],
   "source": [
    "spam = 42\n"
   ]
  },
  {
   "cell_type": "code",
   "execution_count": 10,
   "metadata": {},
   "outputs": [
    {
     "name": "stdout",
     "output_type": "stream",
     "text": [
      "Hello world!\n",
      "What is your name?\n",
      "Hamza\n",
      "It is good to meet you, Hamza\n",
      "5\n",
      "What is your age?\n",
      "3\n",
      "You will be 4 in a year.\n"
     ]
    }
   ],
   "source": [
    "#This program says hello and asks for my name\n",
    "print('Hello world!')\n",
    "print('What is your name?') #ask for their name\\\n",
    "myName = input()\n",
    "print('It is good to meet you, ' + myName)\n",
    "print(len(myName))\n",
    "print('What is your age?') # ask for their age\n",
    "myAge = input()\n",
    "print('You will be ' + str(int(myAge) + 1) + ' in a year.')"
   ]
  },
  {
   "cell_type": "code",
   "execution_count": 11,
   "metadata": {},
   "outputs": [
    {
     "data": {
      "text/plain": [
       "20"
      ]
     },
     "execution_count": 11,
     "metadata": {},
     "output_type": "execute_result"
    }
   ],
   "source": [
    "len('Al' * 10)"
   ]
  },
  {
   "cell_type": "code",
   "execution_count": 12,
   "metadata": {},
   "outputs": [
    {
     "name": "stdout",
     "output_type": "stream",
     "text": [
      "Alice\n",
      "Hi Alice\n",
      "Done\n"
     ]
    }
   ],
   "source": [
    "name = input()\n",
    "if name == 'Alice':\n",
    "    print('Hi Alice')\n",
    "print('Done')"
   ]
  },
  {
   "cell_type": "code",
   "execution_count": 13,
   "metadata": {},
   "outputs": [
    {
     "name": "stdout",
     "output_type": "stream",
     "text": [
      "sworfish\n",
      "Wrong password\n"
     ]
    }
   ],
   "source": [
    "password = input()\n",
    "if password == 'swordfish':\n",
    "    print('Access granted.')\n",
    "else:\n",
    "    print('Wrong password')"
   ]
  },
  {
   "cell_type": "code",
   "execution_count": 14,
   "metadata": {},
   "outputs": [
    {
     "name": "stdout",
     "output_type": "stream",
     "text": [
      "Enter a name\n",
      "Hawmza\n",
      "Thanks for entering a name\n"
     ]
    }
   ],
   "source": [
    "print('Enter a name')\n",
    "name = input()\n",
    "if name or name != '':\n",
    "    print('Thanks for entering a name')\n",
    "else:\n",
    "    print('You did not enter a name')"
   ]
  },
  {
   "cell_type": "code",
   "execution_count": 15,
   "metadata": {},
   "outputs": [
    {
     "name": "stdout",
     "output_type": "stream",
     "text": [
      "Enter number of times you want to print:\n",
      "Hamza\n",
      "Please enter integer\n"
     ]
    }
   ],
   "source": [
    "def Print_Hello_World():\n",
    "    spam = 0\n",
    "    print('Enter number of times you want to print:')\n",
    "    count = input()\n",
    "    try:\n",
    "        count = int(count)\n",
    "    except:\n",
    "        print('Please enter integer')\n",
    "        return\n",
    "    while spam < count:\n",
    "        print('Hello World!')\n",
    "        spam = spam + 1\n",
    "Print_Hello_World()"
   ]
  },
  {
   "cell_type": "code",
   "execution_count": 16,
   "metadata": {},
   "outputs": [
    {
     "name": "stdout",
     "output_type": "stream",
     "text": [
      "Please enter your name:\n",
      "Mehrbani\n",
      "Please enter your name:\n",
      "Hamza\n",
      "Mehrbani\n"
     ]
    }
   ],
   "source": [
    "name = ''\n",
    "while name != 'Hamza':\n",
    "    print('Please enter your name:')\n",
    "    name = input()\n",
    "print('Mehrbani')"
   ]
  },
  {
   "cell_type": "code",
   "execution_count": 17,
   "metadata": {},
   "outputs": [
    {
     "name": "stdout",
     "output_type": "stream",
     "text": [
      "Enter number of times you want to print:\n",
      "10\n",
      "1- Hello World!\n",
      "3- Hello World!\n",
      "5- Hello World!\n",
      "7- Hello World!\n",
      "9- Hello World!\n"
     ]
    }
   ],
   "source": [
    "def Print_Hello_World():\n",
    "    spam = 0\n",
    "    print('Enter number of times you want to print:')\n",
    "    count = input()\n",
    "    try:\n",
    "        count = int(count)\n",
    "    except:\n",
    "        print('Please enter integer')\n",
    "        return\n",
    "    while spam < count:\n",
    "        spam = spam + 1\n",
    "        if (spam % 2) == 0:\n",
    "            continue\n",
    "        else:\n",
    "            print(str(spam) +'- ' +'Hello World!')\n",
    "Print_Hello_World()"
   ]
  },
  {
   "cell_type": "code",
   "execution_count": 18,
   "metadata": {},
   "outputs": [
    {
     "name": "stdout",
     "output_type": "stream",
     "text": [
      "My name is\n",
      "Hamza five times 0\n",
      "Hamza five times 1\n",
      "Hamza five times 2\n",
      "Hamza five times 3\n",
      "Hamza five times 4\n"
     ]
    }
   ],
   "source": [
    "print('My name is')\n",
    "for i in range(5):\n",
    "    print('Hamza five times ' + str(i))"
   ]
  },
  {
   "cell_type": "code",
   "execution_count": 22,
   "metadata": {
    "scrolled": true
   },
   "outputs": [
    {
     "name": "stdout",
     "output_type": "stream",
     "text": [
      "5050\n",
      "5050\n"
     ]
    }
   ],
   "source": [
    "total = 0\n",
    "for num in range(101):\n",
    "    total = total + num\n",
    "print(total)\n",
    "\n",
    "range1 = 0\n",
    "total = 0\n",
    "while range1 < 101:\n",
    "    total = total + range1\n",
    "    range1 = range1 + 1\n",
    "print(total)"
   ]
  },
  {
   "cell_type": "code",
   "execution_count": 27,
   "metadata": {},
   "outputs": [
    {
     "name": "stdout",
     "output_type": "stream",
     "text": [
      "My name is\n",
      "Hamza five times 10\n",
      "Hamza five times 11\n",
      "Hamza five times 12\n",
      "Hamza five times 13\n",
      "Hamza five times 14\n",
      "Hamza five times 15\n"
     ]
    }
   ],
   "source": [
    "print('My name is')\n",
    "for i in range(10,16):\n",
    "    print('Hamza five times ' + str(i))"
   ]
  },
  {
   "cell_type": "code",
   "execution_count": 32,
   "metadata": {},
   "outputs": [
    {
     "name": "stdout",
     "output_type": "stream",
     "text": [
      "5\n",
      "7\n",
      "7\n",
      "6\n",
      "10\n"
     ]
    }
   ],
   "source": [
    "import random, sys, os, math\n",
    "for i in range(5):\n",
    "    print(random.randint(1,10))"
   ]
  },
  {
   "cell_type": "code",
   "execution_count": 3,
   "metadata": {},
   "outputs": [
    {
     "name": "stdout",
     "output_type": "stream",
     "text": [
      "http://localhost:8888/notebooks/Desktop/Automate_The_Boring_Stuff.ipynb\n"
     ]
    }
   ],
   "source": [
    "import pyperclip\n",
    "print(pyperclip.paste())"
   ]
  },
  {
   "cell_type": "code",
   "execution_count": 6,
   "metadata": {},
   "outputs": [
    {
     "name": "stdout",
     "output_type": "stream",
     "text": [
      "Howdy!\n",
      "Howdy!!!\n",
      "Hello there.\n",
      "Howdy!\n",
      "Howdy!!!\n",
      "Hello there.\n",
      "Howdy!\n",
      "Howdy!!!\n",
      "Hello there.\n"
     ]
    }
   ],
   "source": [
    "def hello():\n",
    "    print('Howdy!')\n",
    "    print('Howdy!!!')\n",
    "    print('Hello there.')\n",
    "\n",
    "hello()\n",
    "hello()\n",
    "hello()"
   ]
  },
  {
   "cell_type": "code",
   "execution_count": 11,
   "metadata": {},
   "outputs": [
    {
     "name": "stdout",
     "output_type": "stream",
     "text": [
      "Hello Haania\n",
      "Your name Haania has 6 letters in it.\n",
      "Hello Hamza\n",
      "Your name Hamza has 5 letters in it.\n"
     ]
    }
   ],
   "source": [
    "def hello(name):\n",
    "    print('Hello ' + name)\n",
    "    print('Your name '+ name + ' has ' + str(len(name)) + ' letters in it.')\n",
    "hello('Haania')\n",
    "hello('Hamza')"
   ]
  },
  {
   "cell_type": "code",
   "execution_count": 14,
   "metadata": {},
   "outputs": [
    {
     "name": "stdout",
     "output_type": "stream",
     "text": [
      "11\n"
     ]
    }
   ],
   "source": [
    "def plusOne(number):\n",
    "    return number + 1\n",
    "print(plusOne(10))"
   ]
  },
  {
   "cell_type": "code",
   "execution_count": 18,
   "metadata": {},
   "outputs": [
    {
     "name": "stdout",
     "output_type": "stream",
     "text": [
      "print function automatically enters a new line after an output\n",
      "Hello\n",
      "World\n",
      "However we can write stuff on the same line\n",
      "cat dog mouse\n",
      "Or we can add our own separators\n",
      "cat and dog and mouse\n"
     ]
    }
   ],
   "source": [
    "print('print function automatically enters a new line after an output')\n",
    "print('Hello')\n",
    "print('World')\n",
    "print('However we can write stuff on the same line')\n",
    "print('cat', 'dog', 'mouse')\n",
    "print('Or we can add our own separators')\n",
    "print('cat', 'dog', 'mouse', sep=' and ')"
   ]
  },
  {
   "cell_type": "code",
   "execution_count": 22,
   "metadata": {},
   "outputs": [
    {
     "name": "stdout",
     "output_type": "stream",
     "text": [
      "Local variables are used in local scope within an function whereas global variables are used within a the scope of the whole program\n",
      "99\n"
     ]
    }
   ],
   "source": [
    "print('Local variables are used in local scope within an function whereas global variables are used within a the scope of the whole program')\n",
    "def spam():\n",
    "    eggs = 99\n",
    "    kabab()\n",
    "    print(eggs)\n",
    "\n",
    "def kabab():\n",
    "    tikka = 101\n",
    "    eggs = 0\n",
    "\n",
    "spam()"
   ]
  },
  {
   "cell_type": "code",
   "execution_count": 25,
   "metadata": {},
   "outputs": [
    {
     "name": "stdout",
     "output_type": "stream",
     "text": [
      "Hello\n",
      "Hello\n"
     ]
    }
   ],
   "source": [
    "def spam():\n",
    "    global eggs\n",
    "    eggs = 'Hello'\n",
    "    print(eggs)\n",
    "\n",
    "eggs = 42\n",
    "spam()\n",
    "print(eggs)"
   ]
  },
  {
   "cell_type": "code",
   "execution_count": 30,
   "metadata": {},
   "outputs": [
    {
     "name": "stdout",
     "output_type": "stream",
     "text": [
      "None\n",
      "10.5\n"
     ]
    }
   ],
   "source": [
    "def div42by(divideBy):\n",
    "    try:\n",
    "        return 42 / divideBy\n",
    "    except:ZeroDivisionError\n",
    "        \n",
    "print(div42by(0))\n",
    "print(div42by(4))"
   ]
  },
  {
   "cell_type": "code",
   "execution_count": 33,
   "metadata": {},
   "outputs": [
    {
     "name": "stdout",
     "output_type": "stream",
     "text": [
      "How many cats do you have?\n",
      "sdf\n",
      "You did not enter an integer.\n"
     ]
    }
   ],
   "source": [
    "print('How many cats do you have?')\n",
    "numCats = input()\n",
    "try:\n",
    "    if int(numCats) >= 4:\n",
    "        print('That is a lot of cats.')\n",
    "    else:\n",
    "        print('That is not that many cats.')\n",
    "except ValueError:\n",
    "    print('You did not enter an integer.')"
   ]
  },
  {
   "cell_type": "code",
   "execution_count": 36,
   "metadata": {},
   "outputs": [
    {
     "name": "stdout",
     "output_type": "stream",
     "text": [
      "Hello, What is your name?\n",
      "haania\n",
      "DEBUG: Secret number is 19\n",
      "Well, haania, I am thinking of a number between 1 and 20\n",
      "You have 6 chances\n",
      "Take a guess\n",
      "19\n",
      "Good job, haania! You guess my number in less than 6 guesses\n"
     ]
    }
   ],
   "source": [
    "# This is a guess the number game\n",
    "import random\n",
    "print('Hello, What is your name?')\n",
    "name = input()\n",
    "\n",
    "secretNumber = random.randint(1, 20)\n",
    "#print('DEBUG: Secret number is ' + str(secretNumber))\n",
    "print('Well, ' + name + ', I am thinking of a number between 1 and 20')\n",
    "print('You have 6 chances')\n",
    "\n",
    "# Ask the player to guess 6 times\n",
    "for guessesTaken in range(1, 7):\n",
    "    print('Take a guess')\n",
    "    guess = int(input())\n",
    "    if guess < secretNumber:\n",
    "        print('The number is too low')\n",
    "    elif guess > secretNumber:\n",
    "        print('The number is too high')\n",
    "    else:\n",
    "        # guess is correct\n",
    "        break\n",
    "if guess == secretNumber:\n",
    "    print('Good job, ' + name + '! You guessed my number in less than 6 guesses')\n",
    "else:\n",
    "    print('Nope. Then number I was thinking of was ' + str(secretNumber))\n"
   ]
  },
  {
   "cell_type": "code",
   "execution_count": 63,
   "metadata": {},
   "outputs": [
    {
     "name": "stdout",
     "output_type": "stream",
     "text": [
      "animals[0] = cat\n",
      "animals[1] = bat\n",
      "animals[2] = rat\n",
      "animals[3] = elephant\n",
      "rat\n",
      "The elephant is afraid of the bat.\n"
     ]
    }
   ],
   "source": [
    "#Strings are a 1D collection of multiple items which are comma-separated\n",
    "animals = ['cat','bat','rat','elephant']\n",
    "for i in range(len(animals)):\n",
    "    print('animals['+ str(i) + '] = ' + animals[i])\n",
    "print(animals[-2])\n",
    "print('The ' + animals[-1] + ' is afraid of the ' + animals[1] + '.')"
   ]
  },
  {
   "cell_type": "code",
   "execution_count": 67,
   "metadata": {},
   "outputs": [
    {
     "name": "stdout",
     "output_type": "stream",
     "text": [
      "['cat', 'bat']\n",
      "[10, 20, 30, 40, 50]\n",
      "50\n",
      "[10, 20, 30, 40]\n"
     ]
    }
   ],
   "source": [
    "spam = [['cat','bat'], [10, 20, 30, 40, 50]]\n",
    "print(spam[0])\n",
    "print(spam[1])\n",
    "print(spam[1][4])\n",
    "print(spam[1][:4])"
   ]
  },
  {
   "cell_type": "code",
   "execution_count": 71,
   "metadata": {},
   "outputs": [
    {
     "name": "stdout",
     "output_type": "stream",
     "text": [
      "[['cat', 'bat'], 'CAT', 'DOG', 'MOUSE', 'MOUSE', 'MOUSE', 'MOUSE']\n"
     ]
    },
    {
     "data": {
      "text/plain": [
       "7"
      ]
     },
     "execution_count": 71,
     "metadata": {},
     "output_type": "execute_result"
    }
   ],
   "source": [
    "spam[1:3] = ['CAT', 'DOG', 'MOUSE']\n",
    "print(spam)\n",
    "len(spam)"
   ]
  },
  {
   "cell_type": "code",
   "execution_count": 78,
   "metadata": {},
   "outputs": [
    {
     "name": "stdout",
     "output_type": "stream",
     "text": [
      "True\n",
      "True\n",
      "['4', '2']\n"
     ]
    }
   ],
   "source": [
    "hello = list('Hello')\n",
    "print('H' in hello)\n",
    "print('4' in list('42'))\n",
    "print(list('42'))"
   ]
  },
  {
   "cell_type": "code",
   "execution_count": null,
   "metadata": {},
   "outputs": [],
   "source": []
  }
 ],
 "metadata": {
  "kernelspec": {
   "display_name": "Python 3",
   "language": "python",
   "name": "python3"
  },
  "language_info": {
   "codemirror_mode": {
    "name": "ipython",
    "version": 3
   },
   "file_extension": ".py",
   "mimetype": "text/x-python",
   "name": "python",
   "nbconvert_exporter": "python",
   "pygments_lexer": "ipython3",
   "version": "3.7.6"
  }
 },
 "nbformat": 4,
 "nbformat_minor": 4
}
